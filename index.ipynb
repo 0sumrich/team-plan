{
 "cells": [
  {
   "cell_type": "code",
   "execution_count": 8,
   "metadata": {},
   "outputs": [],
   "source": [
    "import sqlite3\n",
    "import pandas as pd\n",
    "conn = sqlite3.connect('.data/main.db')\n",
    "c = conn.cursor()"
   ]
  },
  {
   "cell_type": "code",
   "execution_count": 9,
   "metadata": {},
   "outputs": [
    {
     "output_type": "execute_result",
     "data": {
      "text/plain": [
       "['objectives', 'teams', 'tasks', 'library_values']"
      ]
     },
     "metadata": {},
     "execution_count": 9
    }
   ],
   "source": [
    "tables = c.execute(\"SELECT name FROM sqlite_master WHERE type='table';\")\n",
    "tables = [x[0] for x in c.fetchall()[1:]]\n",
    "tables"
   ]
  },
  {
   "cell_type": "code",
   "execution_count": 10,
   "metadata": {},
   "outputs": [],
   "source": [
    "objectives, teams, tasks, values = [pd.read_sql(f'select * from {table}', conn) for table in tables]"
   ]
  },
  {
   "cell_type": "code",
   "execution_count": 11,
   "metadata": {},
   "outputs": [
    {
     "output_type": "execute_result",
     "data": {
      "text/plain": [
       "   id                                          objective\n",
       "0   0  Respond to the impacts of the pandemic within ...\n",
       "1   2      Maximise use of the service and its resources\n",
       "2   3  Mitigate the risks posed by the pandemic to th..."
      ],
      "text/html": "<div>\n<style scoped>\n    .dataframe tbody tr th:only-of-type {\n        vertical-align: middle;\n    }\n\n    .dataframe tbody tr th {\n        vertical-align: top;\n    }\n\n    .dataframe thead th {\n        text-align: right;\n    }\n</style>\n<table border=\"1\" class=\"dataframe\">\n  <thead>\n    <tr style=\"text-align: right;\">\n      <th></th>\n      <th>id</th>\n      <th>objective</th>\n    </tr>\n  </thead>\n  <tbody>\n    <tr>\n      <th>0</th>\n      <td>0</td>\n      <td>Respond to the impacts of the pandemic within ...</td>\n    </tr>\n    <tr>\n      <th>1</th>\n      <td>2</td>\n      <td>Maximise use of the service and its resources</td>\n    </tr>\n    <tr>\n      <th>2</th>\n      <td>3</td>\n      <td>Mitigate the risks posed by the pandemic to th...</td>\n    </tr>\n  </tbody>\n</table>\n</div>"
     },
     "metadata": {},
     "execution_count": 11
    }
   ],
   "source": [
    "objectives"
   ]
  },
  {
   "cell_type": "code",
   "execution_count": 39,
   "metadata": {},
   "outputs": [
    {
     "output_type": "execute_result",
     "data": {
      "text/plain": [
       "   id                      team\n",
       "0   0                  Pillar 0\n",
       "1   1                  Pillar 1\n",
       "2   2                  Pillar 2\n",
       "3   3                  Pillar 3\n",
       "4   4                  Pillar 4\n",
       "5   5                  Pillar 5\n",
       "6   6                  Pillar 6\n",
       "7   7                Operations\n",
       "8   8  Service Development Team\n",
       "9   9           Management Team"
      ],
      "text/html": "<div>\n<style scoped>\n    .dataframe tbody tr th:only-of-type {\n        vertical-align: middle;\n    }\n\n    .dataframe tbody tr th {\n        vertical-align: top;\n    }\n\n    .dataframe thead th {\n        text-align: right;\n    }\n</style>\n<table border=\"1\" class=\"dataframe\">\n  <thead>\n    <tr style=\"text-align: right;\">\n      <th></th>\n      <th>id</th>\n      <th>team</th>\n    </tr>\n  </thead>\n  <tbody>\n    <tr>\n      <th>0</th>\n      <td>0</td>\n      <td>Pillar 0</td>\n    </tr>\n    <tr>\n      <th>1</th>\n      <td>1</td>\n      <td>Pillar 1</td>\n    </tr>\n    <tr>\n      <th>2</th>\n      <td>2</td>\n      <td>Pillar 2</td>\n    </tr>\n    <tr>\n      <th>3</th>\n      <td>3</td>\n      <td>Pillar 3</td>\n    </tr>\n    <tr>\n      <th>4</th>\n      <td>4</td>\n      <td>Pillar 4</td>\n    </tr>\n    <tr>\n      <th>5</th>\n      <td>5</td>\n      <td>Pillar 5</td>\n    </tr>\n    <tr>\n      <th>6</th>\n      <td>6</td>\n      <td>Pillar 6</td>\n    </tr>\n    <tr>\n      <th>7</th>\n      <td>7</td>\n      <td>Operations</td>\n    </tr>\n    <tr>\n      <th>8</th>\n      <td>8</td>\n      <td>Service Development Team</td>\n    </tr>\n    <tr>\n      <th>9</th>\n      <td>9</td>\n      <td>Management Team</td>\n    </tr>\n  </tbody>\n</table>\n</div>"
     },
     "metadata": {},
     "execution_count": 39
    }
   ],
   "source": [
    "teams"
   ]
  },
  {
   "cell_type": "code",
   "execution_count": 20,
   "metadata": {},
   "outputs": [
    {
     "output_type": "execute_result",
     "data": {
      "text/plain": [
       "     id                                               task team objective  \\\n",
       "0     1                                                       0         3   \n",
       "1     2                                                       0         2   \n",
       "2     4                                                       0         0   \n",
       "3     5       Conference options outside in June or online    1         3   \n",
       "4     6  Review committee forward plans to potential sy...    1         2   \n",
       "5     8                                                       1         0   \n",
       "6    12                                                       2         0   \n",
       "7    13                                                       2         2   \n",
       "8    14  ‘Discover Your Library’ to support customers t...    2         3   \n",
       "9    17                                                       3         3   \n",
       "10   18               Review participation in national SRC    3         0   \n",
       "11   20                                                       3         2   \n",
       "12   22  ‘Discover Your Library’ to support customers t...    4         3   \n",
       "13   23                                                       4         0   \n",
       "14   27                                                       4         2   \n",
       "15   29                                                       5         3   \n",
       "16   30                                                       5         2   \n",
       "17   34                                                       5         0   \n",
       "18   36                                          Donations    6         3   \n",
       "19   37                                                       6         2   \n",
       "20   38                                                       6         0   \n",
       "21   44                                                       7         2   \n",
       "22   45  Develop volunteering strategy and introduce SS...    7         3   \n",
       "23   49                   Develop online enquiries service    8         3   \n",
       "24   60  Promote partnership activities online and esta...    8         0   \n",
       "25   65           Develop communications strategy and plan    8         2   \n",
       "26   69                   NBA – investigate extended hours    9         3   \n",
       "27   73             Integrated space in new Hendon Library    9         2   \n",
       "28   75                            Roll out Windows 10 PCs    9         0   \n",
       "29   81   Develop online conversation cafes/reading groups    7         0   \n",
       "30   82                 Use HLS/MOB to extend reach of S&C    7         3   \n",
       "31   83                          Develop outreach strategy    9         3   \n",
       "32   84                          Develop outreach strategy    4         3   \n",
       "33   85                           Investigate continue S&C    7         3   \n",
       "34   86                           Investigate continue S&C    2         3   \n",
       "35   87        Review commercial/lib space utility billing    8         3   \n",
       "36   88                              Income gen brainstorm    6         3   \n",
       "37   89                           Revise room booking fees    9         3   \n",
       "38   90                           Revise room booking fees    6         3   \n",
       "39   91                   Review maint/waste/utility costs    9         3   \n",
       "40   92           LIPS to identify local community groups     7         3   \n",
       "41   93                    Develop Technology forward plan    9         3   \n",
       "42   94                 Develop targeted EY support groups    8         0   \n",
       "43   95                Establish social prescribing routes    9         0   \n",
       "44   96                                Festival of Stories    8         0   \n",
       "45   97               Review participation in national SRC    9         0   \n",
       "46   98                  Develop food/lunch element to SRC    8         0   \n",
       "47   99  Open+ V2 at EDG and community libs implementat...    9         2   \n",
       "48  100                    Activist report recommendations    9         2   \n",
       "49  101                        Equalities Allies work plan    8         2   \n",
       "50  102                Training plan and leadership course    9         2   \n",
       "51  103                                      Inflation bid    9         3   \n",
       "52  104    Contact main suppliers re Brexit plans in place    8         3   \n",
       "53  105             Staff affected have appropriate status    8         3   \n",
       "54  106              Reinstate B&SC IT classes at HEN, CLN    7         0   \n",
       "55  107  List/promote IT classes partnership activities...    7         0   \n",
       "56  108          Introduce remote IT support for customers    7         0   \n",
       "57  109                             Reading Friends groups    8         0   \n",
       "\n",
       "   complete  \n",
       "0     FALSE  \n",
       "1     FALSE  \n",
       "2     FALSE  \n",
       "3     FALSE  \n",
       "4     FALSE  \n",
       "5     FALSE  \n",
       "6     FALSE  \n",
       "7     FALSE  \n",
       "8     FALSE  \n",
       "9     FALSE  \n",
       "10    FALSE  \n",
       "11    FALSE  \n",
       "12    FALSE  \n",
       "13    FALSE  \n",
       "14    FALSE  \n",
       "15    FALSE  \n",
       "16    FALSE  \n",
       "17    FALSE  \n",
       "18    FALSE  \n",
       "19    FALSE  \n",
       "20    FALSE  \n",
       "21    FALSE  \n",
       "22    FALSE  \n",
       "23    FALSE  \n",
       "24    FALSE  \n",
       "25    FALSE  \n",
       "26    FALSE  \n",
       "27    FALSE  \n",
       "28    FALSE  \n",
       "29    FALSE  \n",
       "30    FALSE  \n",
       "31    FALSE  \n",
       "32    FALSE  \n",
       "33    FALSE  \n",
       "34    FALSE  \n",
       "35    FALSE  \n",
       "36    FALSE  \n",
       "37    FALSE  \n",
       "38    FALSE  \n",
       "39    FALSE  \n",
       "40    FALSE  \n",
       "41    FALSE  \n",
       "42    FALSE  \n",
       "43    FALSE  \n",
       "44    FALSE  \n",
       "45    FALSE  \n",
       "46    FALSE  \n",
       "47    FALSE  \n",
       "48    FALSE  \n",
       "49    FALSE  \n",
       "50    FALSE  \n",
       "51    FALSE  \n",
       "52    FALSE  \n",
       "53    FALSE  \n",
       "54    FALSE  \n",
       "55    FALSE  \n",
       "56     TRUE  \n",
       "57    FALSE  "
      ],
      "text/html": "<div>\n<style scoped>\n    .dataframe tbody tr th:only-of-type {\n        vertical-align: middle;\n    }\n\n    .dataframe tbody tr th {\n        vertical-align: top;\n    }\n\n    .dataframe thead th {\n        text-align: right;\n    }\n</style>\n<table border=\"1\" class=\"dataframe\">\n  <thead>\n    <tr style=\"text-align: right;\">\n      <th></th>\n      <th>id</th>\n      <th>task</th>\n      <th>team</th>\n      <th>objective</th>\n      <th>complete</th>\n    </tr>\n  </thead>\n  <tbody>\n    <tr>\n      <th>0</th>\n      <td>1</td>\n      <td></td>\n      <td>0</td>\n      <td>3</td>\n      <td>FALSE</td>\n    </tr>\n    <tr>\n      <th>1</th>\n      <td>2</td>\n      <td></td>\n      <td>0</td>\n      <td>2</td>\n      <td>FALSE</td>\n    </tr>\n    <tr>\n      <th>2</th>\n      <td>4</td>\n      <td></td>\n      <td>0</td>\n      <td>0</td>\n      <td>FALSE</td>\n    </tr>\n    <tr>\n      <th>3</th>\n      <td>5</td>\n      <td>Conference options outside in June or online</td>\n      <td>1</td>\n      <td>3</td>\n      <td>FALSE</td>\n    </tr>\n    <tr>\n      <th>4</th>\n      <td>6</td>\n      <td>Review committee forward plans to potential sy...</td>\n      <td>1</td>\n      <td>2</td>\n      <td>FALSE</td>\n    </tr>\n    <tr>\n      <th>5</th>\n      <td>8</td>\n      <td></td>\n      <td>1</td>\n      <td>0</td>\n      <td>FALSE</td>\n    </tr>\n    <tr>\n      <th>6</th>\n      <td>12</td>\n      <td></td>\n      <td>2</td>\n      <td>0</td>\n      <td>FALSE</td>\n    </tr>\n    <tr>\n      <th>7</th>\n      <td>13</td>\n      <td></td>\n      <td>2</td>\n      <td>2</td>\n      <td>FALSE</td>\n    </tr>\n    <tr>\n      <th>8</th>\n      <td>14</td>\n      <td>‘Discover Your Library’ to support customers t...</td>\n      <td>2</td>\n      <td>3</td>\n      <td>FALSE</td>\n    </tr>\n    <tr>\n      <th>9</th>\n      <td>17</td>\n      <td></td>\n      <td>3</td>\n      <td>3</td>\n      <td>FALSE</td>\n    </tr>\n    <tr>\n      <th>10</th>\n      <td>18</td>\n      <td>Review participation in national SRC</td>\n      <td>3</td>\n      <td>0</td>\n      <td>FALSE</td>\n    </tr>\n    <tr>\n      <th>11</th>\n      <td>20</td>\n      <td></td>\n      <td>3</td>\n      <td>2</td>\n      <td>FALSE</td>\n    </tr>\n    <tr>\n      <th>12</th>\n      <td>22</td>\n      <td>‘Discover Your Library’ to support customers t...</td>\n      <td>4</td>\n      <td>3</td>\n      <td>FALSE</td>\n    </tr>\n    <tr>\n      <th>13</th>\n      <td>23</td>\n      <td></td>\n      <td>4</td>\n      <td>0</td>\n      <td>FALSE</td>\n    </tr>\n    <tr>\n      <th>14</th>\n      <td>27</td>\n      <td></td>\n      <td>4</td>\n      <td>2</td>\n      <td>FALSE</td>\n    </tr>\n    <tr>\n      <th>15</th>\n      <td>29</td>\n      <td></td>\n      <td>5</td>\n      <td>3</td>\n      <td>FALSE</td>\n    </tr>\n    <tr>\n      <th>16</th>\n      <td>30</td>\n      <td></td>\n      <td>5</td>\n      <td>2</td>\n      <td>FALSE</td>\n    </tr>\n    <tr>\n      <th>17</th>\n      <td>34</td>\n      <td></td>\n      <td>5</td>\n      <td>0</td>\n      <td>FALSE</td>\n    </tr>\n    <tr>\n      <th>18</th>\n      <td>36</td>\n      <td>Donations</td>\n      <td>6</td>\n      <td>3</td>\n      <td>FALSE</td>\n    </tr>\n    <tr>\n      <th>19</th>\n      <td>37</td>\n      <td></td>\n      <td>6</td>\n      <td>2</td>\n      <td>FALSE</td>\n    </tr>\n    <tr>\n      <th>20</th>\n      <td>38</td>\n      <td></td>\n      <td>6</td>\n      <td>0</td>\n      <td>FALSE</td>\n    </tr>\n    <tr>\n      <th>21</th>\n      <td>44</td>\n      <td></td>\n      <td>7</td>\n      <td>2</td>\n      <td>FALSE</td>\n    </tr>\n    <tr>\n      <th>22</th>\n      <td>45</td>\n      <td>Develop volunteering strategy and introduce SS...</td>\n      <td>7</td>\n      <td>3</td>\n      <td>FALSE</td>\n    </tr>\n    <tr>\n      <th>23</th>\n      <td>49</td>\n      <td>Develop online enquiries service</td>\n      <td>8</td>\n      <td>3</td>\n      <td>FALSE</td>\n    </tr>\n    <tr>\n      <th>24</th>\n      <td>60</td>\n      <td>Promote partnership activities online and esta...</td>\n      <td>8</td>\n      <td>0</td>\n      <td>FALSE</td>\n    </tr>\n    <tr>\n      <th>25</th>\n      <td>65</td>\n      <td>Develop communications strategy and plan</td>\n      <td>8</td>\n      <td>2</td>\n      <td>FALSE</td>\n    </tr>\n    <tr>\n      <th>26</th>\n      <td>69</td>\n      <td>NBA – investigate extended hours</td>\n      <td>9</td>\n      <td>3</td>\n      <td>FALSE</td>\n    </tr>\n    <tr>\n      <th>27</th>\n      <td>73</td>\n      <td>Integrated space in new Hendon Library</td>\n      <td>9</td>\n      <td>2</td>\n      <td>FALSE</td>\n    </tr>\n    <tr>\n      <th>28</th>\n      <td>75</td>\n      <td>Roll out Windows 10 PCs</td>\n      <td>9</td>\n      <td>0</td>\n      <td>FALSE</td>\n    </tr>\n    <tr>\n      <th>29</th>\n      <td>81</td>\n      <td>Develop online conversation cafes/reading groups</td>\n      <td>7</td>\n      <td>0</td>\n      <td>FALSE</td>\n    </tr>\n    <tr>\n      <th>30</th>\n      <td>82</td>\n      <td>Use HLS/MOB to extend reach of S&amp;C</td>\n      <td>7</td>\n      <td>3</td>\n      <td>FALSE</td>\n    </tr>\n    <tr>\n      <th>31</th>\n      <td>83</td>\n      <td>Develop outreach strategy</td>\n      <td>9</td>\n      <td>3</td>\n      <td>FALSE</td>\n    </tr>\n    <tr>\n      <th>32</th>\n      <td>84</td>\n      <td>Develop outreach strategy</td>\n      <td>4</td>\n      <td>3</td>\n      <td>FALSE</td>\n    </tr>\n    <tr>\n      <th>33</th>\n      <td>85</td>\n      <td>Investigate continue S&amp;C</td>\n      <td>7</td>\n      <td>3</td>\n      <td>FALSE</td>\n    </tr>\n    <tr>\n      <th>34</th>\n      <td>86</td>\n      <td>Investigate continue S&amp;C</td>\n      <td>2</td>\n      <td>3</td>\n      <td>FALSE</td>\n    </tr>\n    <tr>\n      <th>35</th>\n      <td>87</td>\n      <td>Review commercial/lib space utility billing</td>\n      <td>8</td>\n      <td>3</td>\n      <td>FALSE</td>\n    </tr>\n    <tr>\n      <th>36</th>\n      <td>88</td>\n      <td>Income gen brainstorm</td>\n      <td>6</td>\n      <td>3</td>\n      <td>FALSE</td>\n    </tr>\n    <tr>\n      <th>37</th>\n      <td>89</td>\n      <td>Revise room booking fees</td>\n      <td>9</td>\n      <td>3</td>\n      <td>FALSE</td>\n    </tr>\n    <tr>\n      <th>38</th>\n      <td>90</td>\n      <td>Revise room booking fees</td>\n      <td>6</td>\n      <td>3</td>\n      <td>FALSE</td>\n    </tr>\n    <tr>\n      <th>39</th>\n      <td>91</td>\n      <td>Review maint/waste/utility costs</td>\n      <td>9</td>\n      <td>3</td>\n      <td>FALSE</td>\n    </tr>\n    <tr>\n      <th>40</th>\n      <td>92</td>\n      <td>LIPS to identify local community groups</td>\n      <td>7</td>\n      <td>3</td>\n      <td>FALSE</td>\n    </tr>\n    <tr>\n      <th>41</th>\n      <td>93</td>\n      <td>Develop Technology forward plan</td>\n      <td>9</td>\n      <td>3</td>\n      <td>FALSE</td>\n    </tr>\n    <tr>\n      <th>42</th>\n      <td>94</td>\n      <td>Develop targeted EY support groups</td>\n      <td>8</td>\n      <td>0</td>\n      <td>FALSE</td>\n    </tr>\n    <tr>\n      <th>43</th>\n      <td>95</td>\n      <td>Establish social prescribing routes</td>\n      <td>9</td>\n      <td>0</td>\n      <td>FALSE</td>\n    </tr>\n    <tr>\n      <th>44</th>\n      <td>96</td>\n      <td>Festival of Stories</td>\n      <td>8</td>\n      <td>0</td>\n      <td>FALSE</td>\n    </tr>\n    <tr>\n      <th>45</th>\n      <td>97</td>\n      <td>Review participation in national SRC</td>\n      <td>9</td>\n      <td>0</td>\n      <td>FALSE</td>\n    </tr>\n    <tr>\n      <th>46</th>\n      <td>98</td>\n      <td>Develop food/lunch element to SRC</td>\n      <td>8</td>\n      <td>0</td>\n      <td>FALSE</td>\n    </tr>\n    <tr>\n      <th>47</th>\n      <td>99</td>\n      <td>Open+ V2 at EDG and community libs implementat...</td>\n      <td>9</td>\n      <td>2</td>\n      <td>FALSE</td>\n    </tr>\n    <tr>\n      <th>48</th>\n      <td>100</td>\n      <td>Activist report recommendations</td>\n      <td>9</td>\n      <td>2</td>\n      <td>FALSE</td>\n    </tr>\n    <tr>\n      <th>49</th>\n      <td>101</td>\n      <td>Equalities Allies work plan</td>\n      <td>8</td>\n      <td>2</td>\n      <td>FALSE</td>\n    </tr>\n    <tr>\n      <th>50</th>\n      <td>102</td>\n      <td>Training plan and leadership course</td>\n      <td>9</td>\n      <td>2</td>\n      <td>FALSE</td>\n    </tr>\n    <tr>\n      <th>51</th>\n      <td>103</td>\n      <td>Inflation bid</td>\n      <td>9</td>\n      <td>3</td>\n      <td>FALSE</td>\n    </tr>\n    <tr>\n      <th>52</th>\n      <td>104</td>\n      <td>Contact main suppliers re Brexit plans in place</td>\n      <td>8</td>\n      <td>3</td>\n      <td>FALSE</td>\n    </tr>\n    <tr>\n      <th>53</th>\n      <td>105</td>\n      <td>Staff affected have appropriate status</td>\n      <td>8</td>\n      <td>3</td>\n      <td>FALSE</td>\n    </tr>\n    <tr>\n      <th>54</th>\n      <td>106</td>\n      <td>Reinstate B&amp;SC IT classes at HEN, CLN</td>\n      <td>7</td>\n      <td>0</td>\n      <td>FALSE</td>\n    </tr>\n    <tr>\n      <th>55</th>\n      <td>107</td>\n      <td>List/promote IT classes partnership activities...</td>\n      <td>7</td>\n      <td>0</td>\n      <td>FALSE</td>\n    </tr>\n    <tr>\n      <th>56</th>\n      <td>108</td>\n      <td>Introduce remote IT support for customers</td>\n      <td>7</td>\n      <td>0</td>\n      <td>TRUE</td>\n    </tr>\n    <tr>\n      <th>57</th>\n      <td>109</td>\n      <td>Reading Friends groups</td>\n      <td>8</td>\n      <td>0</td>\n      <td>FALSE</td>\n    </tr>\n  </tbody>\n</table>\n</div>"
     },
     "metadata": {},
     "execution_count": 20
    }
   ],
   "source": [
    "tasks"
   ]
  },
  {
   "cell_type": "code",
   "execution_count": 74,
   "metadata": {},
   "outputs": [],
   "source": [
    "xl = pd.ExcelFile('Team plan 2020-21 Excel.xlsx')\n",
    "objs_lu = {'Mitigate risks to lib service ': 3,\n",
    " 'Impacts of the pandemic': 0,\n",
    " 'Maximise use of the service': 2}\n",
    "\n",
    "    # ['Pillar 0',\n",
    "    # 'Pillar 1',\n",
    "    # 'Pillar 2',\n",
    "    # 'Pillar 3',\n",
    "    # 'Pillar 4',\n",
    "    # 'Pillar 5',\n",
    "    # 'Pillar 6',\n",
    "    # 'Operations',\n",
    "    # 'Service Development Team',\n",
    "    # 'Management Team']\n",
    "\n",
    "team_fix={'CL': 'Management Team',\n",
    " 'SG': 'Management Team',\n",
    " 'HR': 'Management Team',\n",
    " 'RP': 'Management Team',\n",
    " 'Ops Teams': 'Operations',\n",
    " 'LMT': 'Management Team',\n",
    " 'FPR': 'Management Team',\n",
    " 'P6': 'Pillar 6',\n",
    " 'P2': 'Pillar 2',\n",
    " 'Ops Team': 'Operations',\n",
    " 'Recovery Group': 'Operations',\n",
    " 'P0': 'Pillar 0',\n",
    " 'P4': 'Pillar 4',\n",
    " 'LCSMs': 'Operations',\n",
    " 'KM': 'Operations',\n",
    " 'CW': 'Operations',\n",
    " 'P5': 'Pillar 5',\n",
    " 'CL/SG': 'Service Development Team',\n",
    " 'LLL': 'Pillar 1',\n",
    " 'Early Years': 'Service Development Team',\n",
    " 'blank': '',\n",
    " 'HR/RP': 'Management Team',\n",
    " 'SDL Team': 'Service Development Team',\n",
    " 'Ops ': 'Operations',\n",
    " 'SM': 'Operations',\n",
    " 'NM': 'Service Development Team',\n",
    " 'P1': 'Pillar 1',\n",
    " 'II': 'Operations',\n",
    " 'SGreen': 'Operations',\n",
    " 'NB': 'Service Development Team',\n",
    " 'EY': 'Early Years',\n",
    " 'All Teams': 'All Teams',\n",
    " 'SDLs': 'Service Development Team',\n",
    " 'Estates': '',\n",
    " 'Equalities Group': 'Operations',\n",
    " 'P3': 'Pillar 3',\n",
    " 'HP': 'Operations',\n",
    " ' ': ''}\n",
    "\n",
    "def _fix_hr(xl):\n",
    "    df = pd.concat([xl.parse(sn, skiprows=2).assign(objective=objs_lu[sn]) for sn in xl.sheet_names]).reset_index().drop('index',axis=1)\n",
    "    who_cols=[x for x in df.columns if 'Who' in x]\n",
    "    drop_cols = [x for x in df.columns if 'Unnamed' in x]\n",
    "    df = df.drop(drop_cols, axis=1)\n",
    "    cols = ['What', 'Progress', 'objective'] + who_cols\n",
    "    df = pd.melt(df[cols], id_vars=['What','Progress', 'objective']).rename({'value':'team', 'What':'task'}, axis=1).drop('variable',axis=1)\n",
    "    df['team'] = df['team'].fillna('blank').apply(lambda x: team_fix[x] if team_fix[x] else x)\n",
    "    objectives_lookup = {id: objective for id, objective in zip(list(objectives.id), list(objectives.objective))}\n",
    "    df['objective'] = df.objective.apply(lambda x: objectives_lookup[x])\n",
    "    # ['Pillar 0',\n",
    "    # 'Pillar 1',\n",
    "    # 'Pillar 2',\n",
    "    # 'Pillar 3',\n",
    "    # 'Pillar 4',\n",
    "    # 'Pillar 5',\n",
    "    # 'Pillar 6',\n",
    "    # 'Operations',\n",
    "    # 'Service Development Team',\n",
    "    # 'Management Team']\n",
    "    return df.sort_values(['objective','team','task']).to_csv('objectivesfix.csv',index=False)\n",
    "\n",
    "_fix_hr(xl)\n",
    "# xl.sheet_names"
   ]
  }
 ],
 "metadata": {
  "kernelspec": {
   "name": "python388jvsc74a57bd038a26288179d2fc9c2845c1c771b74e9ee87ea6897ad6e46a269159758906bc8",
   "display_name": "Python 3.8.8 64-bit ('base': conda)"
  },
  "language_info": {
   "codemirror_mode": {
    "name": "ipython",
    "version": 3
   },
   "file_extension": ".py",
   "mimetype": "text/x-python",
   "name": "python",
   "nbconvert_exporter": "python",
   "pygments_lexer": "ipython3",
   "version": "3.8.8"
  }
 },
 "nbformat": 4,
 "nbformat_minor": 2
}