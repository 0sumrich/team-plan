{
 "cells": [
  {
   "cell_type": "code",
   "execution_count": 1,
   "metadata": {},
   "outputs": [],
   "source": [
    "import pandas as pd\n",
    "import requests\n",
    "url = 'https://team-plan.glitch.me/api'\n",
    "res = requests.get(url)\n",
    "json = res.json()\n",
    "csv = pd.DataFrame(json['csv'])\n",
    "values = pd.DataFrame(json['values'])"
   ]
  },
  {
   "cell_type": "code",
   "execution_count": 2,
   "metadata": {},
   "outputs": [],
   "source": [
    "# import ipdb\n",
    "objectives = pd.Series(csv.loc[csv.team==''].text).rename('objective')\n",
    "teams = pd.Series(csv.team.unique()[1:]).rename('team')\n",
    "tasks = csv.loc[csv.team!=''].drop(['_id', '__v'], axis=1)\n",
    "tasks.loc[:, 'team'] = list(map(lambda x: pd.Index(teams).get_loc(x), tasks.team.tolist()))\n",
    "tasks.loc[:, 'objective'] = list(map(lambda x: pd.Index(objectives).get_loc(x), tasks.objective.tolist()))\n",
    "tasks = tasks.assign(complete = 'FALSE')"
   ]
  },
  {
   "cell_type": "code",
   "execution_count": 3,
   "metadata": {},
   "outputs": [],
   "source": [
    "dir = '.data/'\n",
    "objectives.to_csv(dir + 'objectives.csv', header=True)\n",
    "teams.to_csv(dir + 'teams.csv', header=True)\n",
    "tasks.to_csv(dir + 'tasks.csv')"
   ]
  },
  {
   "cell_type": "code",
   "execution_count": 4,
   "metadata": {},
   "outputs": [],
   "source": [
    "values.drop(['_id', '__v'], axis=1).to_csv(dir + 'values.csv')"
   ]
  },
  {
   "cell_type": "code",
   "execution_count": 5,
   "metadata": {},
   "outputs": [],
   "source": [
    "import sqlite3\n",
    "import ipdb\n",
    "conn = sqlite3.connect('.data/main.db')\n",
    "c = conn.cursor()\n",
    "# objectives, teams, tasks, values\n",
    "# INTEGER PRIMARY KEY AUTOINCREMENT \n",
    "\n",
    "# '''CREATE TABLE stocks\n",
    "#              (date text, trans text, symbol text, qty real, price real)''''''\n",
    "drop_objectives = \"\"\"\n",
    "    drop table objectives;\n",
    "\"\"\"\n",
    "\n",
    "drop_teams = \"\"\"\n",
    "    drop table teams;\n",
    "\"\"\"\n",
    "\n",
    "drop_tasks = \"\"\"\n",
    "    drop table tasks;\n",
    "\"\"\"\n",
    "\n",
    "drop_values = \"\"\"\n",
    "    drop table library_values;\n",
    "\"\"\" \n",
    "\n",
    "create_objectives_sql = \"\"\"\n",
    "    CREATE TABLE objectives\n",
    "        (id INTEGER PRIMARY KEY AUTOINCREMENT, objective text);\n",
    "\"\"\"\n",
    "create_teams_sql = \"\"\"\n",
    "    CREATE TABLE teams\n",
    "        (id INTEGER PRIMARY KEY AUTOINCREMENT, team text);\n",
    "\"\"\"\n",
    "create_tasks_sql = \"\"\"\n",
    "    CREATE TABLE tasks\n",
    "        (id INTEGER PRIMARY KEY AUTOINCREMENT, task text, team text, objective text, complete text);\n",
    "\"\"\"\n",
    "create_values_sql = \"\"\"\n",
    "    CREATE TABLE library_values\n",
    "        (id INTEGER PRIMARY KEY AUTOINCREMENT, value text);\n",
    "\"\"\"\n",
    "sql_list = [drop_objectives, drop_teams, drop_tasks, drop_values, create_objectives_sql, create_teams_sql, create_tasks_sql, create_values_sql]\n",
    "for s in sql_list:\n",
    "    c.execute(s)\n",
    "    conn.commit()"
   ]
  },
  {
   "cell_type": "code",
   "execution_count": 6,
   "metadata": {},
   "outputs": [],
   "source": [
    "# c.executemany('INSERT INTO stocks VALUES (?,?,?,?,?)', purchases)\n",
    "conn = sqlite3.connect('.data/main.db')\n",
    "c = conn.cursor()\n",
    "c.executemany('INSERT INTO objectives values (?, ?);', list(objectives.items()))\n",
    "conn.commit()\n"
   ]
  },
  {
   "cell_type": "code",
   "execution_count": 7,
   "metadata": {},
   "outputs": [],
   "source": [
    "c.executemany('INSERT INTO teams values (?, ?);', list(teams.items()))\n",
    "conn.commit()"
   ]
  },
  {
   "cell_type": "code",
   "execution_count": 8,
   "metadata": {},
   "outputs": [],
   "source": [
    "# INSERT INTO COMPANY (NAME,AGE,ADDRESS,SALARY)\n",
    "# VALUES ( 'Paul', 32, 'California', 20000.00 );\n",
    "import sqlite3\n",
    "conn = sqlite3.connect('.data/main.db')\n",
    "c = conn.cursor()\n",
    "task_list = []\n",
    "for (idx, task) in enumerate(tasks.values.tolist()):\n",
    "    task.insert(0, idx)\n",
    "    task_list.append(task)\n",
    "\n",
    "c.executemany('INSERT INTO tasks values (?, ?, ?, ?, ?);', task_list)\n",
    "conn.commit()"
   ]
  },
  {
   "cell_type": "code",
   "execution_count": 9,
   "metadata": {},
   "outputs": [],
   "source": [
    "c.executemany('INSERT INTO library_values values (?, ?);', list(values.text.items()))\n",
    "conn.commit()"
   ]
  }
 ],
 "metadata": {
  "kernelspec": {
   "display_name": "Python 3",
   "language": "python",
   "name": "python3"
  },
  "language_info": {
   "codemirror_mode": {
    "name": "ipython",
    "version": 3
   },
   "file_extension": ".py",
   "mimetype": "text/x-python",
   "name": "python",
   "nbconvert_exporter": "python",
   "pygments_lexer": "ipython3",
   "version": "3.7.4"
  }
 },
 "nbformat": 4,
 "nbformat_minor": 2
}
